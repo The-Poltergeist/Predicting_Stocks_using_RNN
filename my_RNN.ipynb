{
 "cells": [
  {
   "cell_type": "code",
   "execution_count": 4,
   "id": "a078c4d2",
   "metadata": {},
   "outputs": [],
   "source": [
    "import pandas as pd\n",
    "import tensorflow as tf\n",
    "import numpy as np\n",
    "import matplotlib.pyplot as plt"
   ]
  },
  {
   "cell_type": "code",
   "execution_count": 5,
   "id": "07d7cf28",
   "metadata": {},
   "outputs": [],
   "source": [
    "df = pd.read_csv('Google_Stock_Price_Train.csv')\n",
    "train_set = df.iloc[:,1:2].values"
   ]
  },
  {
   "cell_type": "markdown",
   "id": "a6a0fa51",
   "metadata": {},
   "source": [
    "### Scaling"
   ]
  },
  {
   "cell_type": "code",
   "execution_count": 6,
   "id": "37e0a84e",
   "metadata": {},
   "outputs": [],
   "source": [
    "from sklearn.preprocessing import MinMaxScaler\n",
    "sc = MinMaxScaler(feature_range = (0, 1))\n",
    "train_set_scaled = sc.fit_transform(train_set)"
   ]
  },
  {
   "cell_type": "markdown",
   "id": "c046bd81",
   "metadata": {},
   "source": [
    "### Creating a data structure with 60 timesteps and 1 output"
   ]
  },
  {
   "cell_type": "code",
   "execution_count": 21,
   "id": "580cccce",
   "metadata": {},
   "outputs": [],
   "source": [
    "X_train = []\n",
    "y_train = []\n",
    "for i in range(60,1258):\n",
    "    X_train.append(train_set_scaled[i-60:i,0])\n",
    "    y_train.append(train_set_scaled[i,0])\n",
    "X_train,y_train = np.array(X_train),np.array(y_train)"
   ]
  },
  {
   "cell_type": "markdown",
   "id": "ccaa3cdd",
   "metadata": {},
   "source": [
    "### Reshaping"
   ]
  },
  {
   "cell_type": "code",
   "execution_count": 22,
   "id": "5cf56419",
   "metadata": {},
   "outputs": [],
   "source": [
    "X_train = np.reshape(X_train, (X_train.shape[0],X_train.shape[1],1))"
   ]
  },
  {
   "cell_type": "markdown",
   "id": "4f2ad937",
   "metadata": {},
   "source": [
    "# Building RNN"
   ]
  },
  {
   "cell_type": "code",
   "execution_count": 23,
   "id": "ca5fe2dc",
   "metadata": {},
   "outputs": [],
   "source": [
    "from keras.models import Sequential\n",
    "from keras.layers import Dense\n",
    "from keras.layers import Dropout\n",
    "from keras.layers import LSTM"
   ]
  },
  {
   "cell_type": "markdown",
   "id": "311c0774",
   "metadata": {},
   "source": [
    "### Initializing RNN"
   ]
  },
  {
   "cell_type": "code",
   "execution_count": 24,
   "id": "15e4ebd4",
   "metadata": {},
   "outputs": [],
   "source": [
    "reg = Sequential()"
   ]
  },
  {
   "cell_type": "markdown",
   "id": "948e07e4",
   "metadata": {},
   "source": [
    "### Adding LSTM"
   ]
  },
  {
   "cell_type": "code",
   "execution_count": 25,
   "id": "d11fde2b",
   "metadata": {},
   "outputs": [],
   "source": [
    "reg.add(LSTM(units = 50,return_sequences =True,input_shape = (X_train.shape[1],1)))\n",
    "reg.add(Dropout(0.2))"
   ]
  },
  {
   "cell_type": "code",
   "execution_count": 26,
   "id": "01b45094",
   "metadata": {},
   "outputs": [],
   "source": [
    "reg.add(LSTM(units = 50,return_sequences =True))\n",
    "reg.add(Dropout(0.2))"
   ]
  },
  {
   "cell_type": "code",
   "execution_count": 27,
   "id": "66987a87",
   "metadata": {},
   "outputs": [],
   "source": [
    "reg.add(LSTM(units = 50,return_sequences =True))\n",
    "reg.add(Dropout(0.2))"
   ]
  },
  {
   "cell_type": "code",
   "execution_count": 28,
   "id": "240ff2f5",
   "metadata": {},
   "outputs": [],
   "source": [
    "reg.add(LSTM(units = 50))\n",
    "reg.add(Dropout(0.2))"
   ]
  },
  {
   "cell_type": "markdown",
   "id": "45468649",
   "metadata": {},
   "source": [
    "### Adding output layer"
   ]
  },
  {
   "cell_type": "code",
   "execution_count": 29,
   "id": "878195d0",
   "metadata": {},
   "outputs": [],
   "source": [
    "reg.add(Dense(units=1))"
   ]
  },
  {
   "cell_type": "markdown",
   "id": "706bff18",
   "metadata": {},
   "source": [
    "# Compiling the rnn"
   ]
  },
  {
   "cell_type": "code",
   "execution_count": 30,
   "id": "e362fa57",
   "metadata": {},
   "outputs": [],
   "source": [
    "reg.compile(optimizer = 'Adam', loss = 'mean_squared_error')"
   ]
  },
  {
   "cell_type": "markdown",
   "id": "5d2d7c74",
   "metadata": {},
   "source": [
    "### Fitting the training set"
   ]
  },
  {
   "cell_type": "code",
   "execution_count": 31,
   "id": "96a2e89d",
   "metadata": {},
   "outputs": [
    {
     "name": "stdout",
     "output_type": "stream",
     "text": [
      "Epoch 1/100\n",
      "38/38 [==============================] - 8s 64ms/step - loss: 0.0374\n",
      "Epoch 2/100\n",
      "38/38 [==============================] - 4s 97ms/step - loss: 0.0073\n",
      "Epoch 3/100\n",
      "38/38 [==============================] - 5s 122ms/step - loss: 0.0060\n",
      "Epoch 4/100\n",
      "38/38 [==============================] - 5s 121ms/step - loss: 0.0055\n",
      "Epoch 5/100\n",
      "38/38 [==============================] - 5s 119ms/step - loss: 0.0051\n",
      "Epoch 6/100\n",
      "38/38 [==============================] - 4s 118ms/step - loss: 0.0061\n",
      "Epoch 7/100\n",
      "38/38 [==============================] - 5s 119ms/step - loss: 0.0047\n",
      "Epoch 8/100\n",
      "38/38 [==============================] - 4s 115ms/step - loss: 0.0046\n",
      "Epoch 9/100\n",
      "38/38 [==============================] - 4s 111ms/step - loss: 0.0044\n",
      "Epoch 10/100\n",
      "38/38 [==============================] - 4s 118ms/step - loss: 0.0041\n",
      "Epoch 11/100\n",
      "38/38 [==============================] - 4s 114ms/step - loss: 0.0042\n",
      "Epoch 12/100\n",
      "38/38 [==============================] - 5s 120ms/step - loss: 0.0041\n",
      "Epoch 13/100\n",
      "38/38 [==============================] - 4s 113ms/step - loss: 0.0042\n",
      "Epoch 14/100\n",
      "38/38 [==============================] - 5s 119ms/step - loss: 0.0047\n",
      "Epoch 15/100\n",
      "38/38 [==============================] - 5s 118ms/step - loss: 0.0040\n",
      "Epoch 16/100\n",
      "38/38 [==============================] - 5s 124ms/step - loss: 0.0039\n",
      "Epoch 17/100\n",
      "38/38 [==============================] - 4s 118ms/step - loss: 0.0035\n",
      "Epoch 18/100\n",
      "38/38 [==============================] - 4s 118ms/step - loss: 0.0033\n",
      "Epoch 19/100\n",
      "38/38 [==============================] - 4s 115ms/step - loss: 0.0034\n",
      "Epoch 20/100\n",
      "38/38 [==============================] - 4s 117ms/step - loss: 0.0034\n",
      "Epoch 21/100\n",
      "38/38 [==============================] - 4s 115ms/step - loss: 0.0035\n",
      "Epoch 22/100\n",
      "38/38 [==============================] - 4s 114ms/step - loss: 0.0044\n",
      "Epoch 23/100\n",
      "38/38 [==============================] - 4s 114ms/step - loss: 0.0035\n",
      "Epoch 24/100\n",
      "38/38 [==============================] - 4s 113ms/step - loss: 0.0034\n",
      "Epoch 25/100\n",
      "38/38 [==============================] - 4s 116ms/step - loss: 0.0033\n",
      "Epoch 26/100\n",
      "38/38 [==============================] - 5s 121ms/step - loss: 0.0030\n",
      "Epoch 27/100\n",
      "38/38 [==============================] - 4s 114ms/step - loss: 0.0033\n",
      "Epoch 28/100\n",
      "38/38 [==============================] - 4s 117ms/step - loss: 0.0028\n",
      "Epoch 29/100\n",
      "38/38 [==============================] - 4s 114ms/step - loss: 0.0029\n",
      "Epoch 30/100\n",
      "38/38 [==============================] - 4s 118ms/step - loss: 0.0029\n",
      "Epoch 31/100\n",
      "38/38 [==============================] - 4s 116ms/step - loss: 0.0028\n",
      "Epoch 32/100\n",
      "38/38 [==============================] - 5s 119ms/step - loss: 0.0027\n",
      "Epoch 33/100\n",
      "38/38 [==============================] - 4s 118ms/step - loss: 0.0030\n",
      "Epoch 34/100\n",
      "38/38 [==============================] - 4s 115ms/step - loss: 0.0029\n",
      "Epoch 35/100\n",
      "38/38 [==============================] - 4s 108ms/step - loss: 0.0027\n",
      "Epoch 36/100\n",
      "38/38 [==============================] - 4s 111ms/step - loss: 0.0025\n",
      "Epoch 37/100\n",
      "38/38 [==============================] - 4s 111ms/step - loss: 0.0026\n",
      "Epoch 38/100\n",
      "38/38 [==============================] - 4s 115ms/step - loss: 0.0024\n",
      "Epoch 39/100\n",
      "38/38 [==============================] - 5s 123ms/step - loss: 0.0026\n",
      "Epoch 40/100\n",
      "38/38 [==============================] - 6s 152ms/step - loss: 0.0026\n",
      "Epoch 41/100\n",
      "38/38 [==============================] - 5s 143ms/step - loss: 0.0025\n",
      "Epoch 42/100\n",
      "38/38 [==============================] - 6s 149ms/step - loss: 0.0028\n",
      "Epoch 43/100\n",
      "38/38 [==============================] - 6s 146ms/step - loss: 0.0026\n",
      "Epoch 44/100\n",
      "38/38 [==============================] - 6s 151ms/step - loss: 0.0025\n",
      "Epoch 45/100\n",
      "38/38 [==============================] - 5s 135ms/step - loss: 0.0027\n",
      "Epoch 46/100\n",
      "38/38 [==============================] - 6s 147ms/step - loss: 0.0026\n",
      "Epoch 47/100\n",
      "38/38 [==============================] - 5s 135ms/step - loss: 0.0024\n",
      "Epoch 48/100\n",
      "38/38 [==============================] - 5s 134ms/step - loss: 0.0024\n",
      "Epoch 49/100\n",
      "38/38 [==============================] - 5s 132ms/step - loss: 0.0025\n",
      "Epoch 50/100\n",
      "38/38 [==============================] - 5s 130ms/step - loss: 0.0027\n",
      "Epoch 51/100\n",
      "38/38 [==============================] - 5s 136ms/step - loss: 0.0024\n",
      "Epoch 52/100\n",
      "38/38 [==============================] - 5s 138ms/step - loss: 0.0021\n",
      "Epoch 53/100\n",
      "38/38 [==============================] - 5s 139ms/step - loss: 0.0022\n",
      "Epoch 54/100\n",
      "38/38 [==============================] - 5s 122ms/step - loss: 0.0023\n",
      "Epoch 55/100\n",
      "38/38 [==============================] - 5s 121ms/step - loss: 0.0021\n",
      "Epoch 56/100\n",
      "38/38 [==============================] - 4s 118ms/step - loss: 0.0024\n",
      "Epoch 57/100\n",
      "38/38 [==============================] - 4s 116ms/step - loss: 0.0020\n",
      "Epoch 58/100\n",
      "38/38 [==============================] - 5s 132ms/step - loss: 0.0020\n",
      "Epoch 59/100\n",
      "38/38 [==============================] - 5s 130ms/step - loss: 0.0020\n",
      "Epoch 60/100\n",
      "38/38 [==============================] - 5s 127ms/step - loss: 0.0022\n",
      "Epoch 61/100\n",
      "38/38 [==============================] - 5s 132ms/step - loss: 0.0021\n",
      "Epoch 62/100\n",
      "38/38 [==============================] - 6s 145ms/step - loss: 0.0022\n",
      "Epoch 63/100\n",
      "38/38 [==============================] - 5s 129ms/step - loss: 0.0020\n",
      "Epoch 64/100\n",
      "38/38 [==============================] - 5s 128ms/step - loss: 0.0019\n",
      "Epoch 65/100\n",
      "38/38 [==============================] - 5s 127ms/step - loss: 0.0018\n",
      "Epoch 66/100\n",
      "38/38 [==============================] - 5s 137ms/step - loss: 0.0021\n",
      "Epoch 67/100\n",
      "38/38 [==============================] - 5s 131ms/step - loss: 0.0019\n",
      "Epoch 68/100\n",
      "38/38 [==============================] - 5s 136ms/step - loss: 0.0019\n",
      "Epoch 69/100\n",
      "38/38 [==============================] - 5s 131ms/step - loss: 0.0019\n",
      "Epoch 70/100\n",
      "38/38 [==============================] - 5s 129ms/step - loss: 0.0020\n",
      "Epoch 71/100\n",
      "38/38 [==============================] - 5s 128ms/step - loss: 0.0020\n",
      "Epoch 72/100\n",
      "38/38 [==============================] - 5s 129ms/step - loss: 0.0017\n",
      "Epoch 73/100\n",
      "38/38 [==============================] - 5s 137ms/step - loss: 0.0018\n",
      "Epoch 74/100\n",
      "38/38 [==============================] - 5s 144ms/step - loss: 0.0017\n",
      "Epoch 75/100\n",
      "38/38 [==============================] - 5s 136ms/step - loss: 0.0018\n",
      "Epoch 76/100\n",
      "38/38 [==============================] - 5s 135ms/step - loss: 0.0015\n",
      "Epoch 77/100\n",
      "38/38 [==============================] - 5s 134ms/step - loss: 0.0017\n",
      "Epoch 78/100\n",
      "38/38 [==============================] - 5s 135ms/step - loss: 0.0018\n",
      "Epoch 79/100\n",
      "38/38 [==============================] - 5s 135ms/step - loss: 0.0017\n",
      "Epoch 80/100\n",
      "38/38 [==============================] - 5s 135ms/step - loss: 0.0018\n",
      "Epoch 81/100\n",
      "38/38 [==============================] - 5s 136ms/step - loss: 0.0018\n",
      "Epoch 82/100\n",
      "38/38 [==============================] - 5s 134ms/step - loss: 0.0017\n",
      "Epoch 83/100\n",
      "38/38 [==============================] - 5s 135ms/step - loss: 0.0016\n",
      "Epoch 84/100\n",
      "38/38 [==============================] - 5s 136ms/step - loss: 0.0016\n",
      "Epoch 85/100\n",
      "38/38 [==============================] - 5s 139ms/step - loss: 0.0016\n",
      "Epoch 86/100\n",
      "38/38 [==============================] - 6s 154ms/step - loss: 0.0016\n",
      "Epoch 87/100\n",
      "38/38 [==============================] - 5s 140ms/step - loss: 0.0015\n",
      "Epoch 88/100\n",
      "38/38 [==============================] - 5s 140ms/step - loss: 0.0016\n",
      "Epoch 89/100\n",
      "38/38 [==============================] - 5s 139ms/step - loss: 0.0015\n",
      "Epoch 90/100\n",
      "38/38 [==============================] - 5s 141ms/step - loss: 0.0016\n",
      "Epoch 91/100\n",
      "38/38 [==============================] - 5s 140ms/step - loss: 0.0015\n",
      "Epoch 92/100\n",
      "38/38 [==============================] - 5s 140ms/step - loss: 0.0014\n",
      "Epoch 93/100\n",
      "38/38 [==============================] - 5s 140ms/step - loss: 0.0014\n",
      "Epoch 94/100\n",
      "38/38 [==============================] - 5s 140ms/step - loss: 0.0014\n",
      "Epoch 95/100\n",
      "38/38 [==============================] - 5s 142ms/step - loss: 0.0014\n",
      "Epoch 96/100\n",
      "38/38 [==============================] - 5s 139ms/step - loss: 0.0015\n",
      "Epoch 97/100\n",
      "38/38 [==============================] - 5s 140ms/step - loss: 0.0015\n",
      "Epoch 98/100\n",
      "38/38 [==============================] - 5s 138ms/step - loss: 0.0014\n",
      "Epoch 99/100\n"
     ]
    },
    {
     "name": "stdout",
     "output_type": "stream",
     "text": [
      "38/38 [==============================] - 5s 139ms/step - loss: 0.0017\n",
      "Epoch 100/100\n",
      "38/38 [==============================] - 5s 139ms/step - loss: 0.0017\n"
     ]
    },
    {
     "data": {
      "text/plain": [
       "<keras.callbacks.History at 0x1abae2abf10>"
      ]
     },
     "execution_count": 31,
     "metadata": {},
     "output_type": "execute_result"
    }
   ],
   "source": [
    "reg.fit(X_train,y_train, epochs=100,batch_size = 32)"
   ]
  },
  {
   "cell_type": "markdown",
   "id": "0b682880",
   "metadata": {},
   "source": [
    "# Predicting and Visualizing the data"
   ]
  },
  {
   "cell_type": "code",
   "execution_count": 32,
   "id": "78bb7b28",
   "metadata": {},
   "outputs": [],
   "source": [
    "df_test = pd.read_csv('Google_Stock_Price_Test.csv')\n",
    "real_stock_price = df_test.iloc[:,1:2].values"
   ]
  },
  {
   "cell_type": "code",
   "execution_count": 51,
   "id": "995ac987",
   "metadata": {},
   "outputs": [
    {
     "name": "stdout",
     "output_type": "stream",
     "text": [
      "0     325.25\n",
      "1     331.27\n",
      "2     329.83\n",
      "3     328.34\n",
      "4     322.04\n",
      "       ...  \n",
      "15    829.62\n",
      "16    837.81\n",
      "17    834.71\n",
      "18    814.66\n",
      "19    796.86\n",
      "Name: Open, Length: 1278, dtype: float64\n"
     ]
    }
   ],
   "source": [
    "df_total = pd.concat((df['Open'],df_test['Open']),axis = 0)\n",
    "inputs = df_total[len(df_total)-len(df_test)-60:].values\n",
    "inputs = inputs.reshape(-1,1)\n",
    "inputs = sc.transform(inputs)\n",
    "print(df_total)"
   ]
  },
  {
   "cell_type": "code",
   "execution_count": 52,
   "id": "a7fa5bed",
   "metadata": {},
   "outputs": [
    {
     "name": "stdout",
     "output_type": "stream",
     "text": [
      "[[783.86725]\n",
      " [781.1122 ]\n",
      " [781.88654]\n",
      " [783.75934]\n",
      " [787.1728 ]\n",
      " [792.76654]\n",
      " [797.35956]\n",
      " [798.39355]\n",
      " [797.94226]\n",
      " [797.7413 ]\n",
      " [798.1509 ]\n",
      " [798.6049 ]\n",
      " [798.8439 ]\n",
      " [799.52124]\n",
      " [800.4245 ]\n",
      " [805.1431 ]\n",
      " [811.99884]\n",
      " [818.7459 ]\n",
      " [821.4139 ]\n",
      " [815.6906 ]]\n"
     ]
    }
   ],
   "source": [
    "X_test = []\n",
    "for i in range(60,80):\n",
    "    X_test.append(inputs[i-60:i,0])\n",
    "X_test = np.array(X_test)\n",
    "X_test = np.reshape(X_test,(X_test.shape[0],X_test.shape[1],1))\n",
    "predicted_stock_price = reg.predict(X_test)\n",
    "predicted_stock_price = sc.inverse_transform(predicted_stock_price)\n",
    "print(predicted_stock_price)"
   ]
  },
  {
   "cell_type": "markdown",
   "id": "43cd0967",
   "metadata": {},
   "source": [
    "### Plotting\n"
   ]
  },
  {
   "cell_type": "code",
   "execution_count": 53,
   "id": "8cb42406",
   "metadata": {},
   "outputs": [
    {
     "data": {
      "image/png": "[encoded data removed]",
      "text/plain": [
       "<Figure size 432x288 with 1 Axes>"
      ]
     },
     "metadata": {
      "needs_background": "light"
     },
     "output_type": "display_data"
    }
   ],
   "source": [
    "plt.plot(real_stock_price, color = 'blue', label = 'Real Stock Price')\n",
    "plt.plot(predicted_stock_price, color = 'green', label = \"Predicted Stock Price\")\n",
    "plt.title('Google Stock Price Prediction')\n",
    "plt.xlabel('Time')\n",
    "plt.ylabel('Google Stock')\n",
    "plt.legend()\n",
    "plt.show()"
   ]
  },
  {
   "cell_type": "code",
   "execution_count": null,
   "id": "5f5aa6f3",
   "metadata": {},
   "outputs": [],
   "source": []
  }
 ],
 "metadata": {
  "kernelspec": {
   "display_name": "Python 3 (ipykernel)",
   "language": "python",
   "name": "python3"
  },
  "language_info": {
   "codemirror_mode": {
    "name": "ipython",
    "version": 3
   },
   "file_extension": ".py",
   "mimetype": "text/x-python",
   "name": "python",
   "nbconvert_exporter": "python",
   "pygments_lexer": "ipython3",
   "version": "3.9.7"
  }
 },
 "nbformat": 4,
 "nbformat_minor": 5
}
